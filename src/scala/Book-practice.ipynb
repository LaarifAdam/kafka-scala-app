{
 "cells": [
  {
   "cell_type": "code",
   "execution_count": 5,
   "id": "e07fbb1b",
   "metadata": {},
   "outputs": [],
   "source": [
    "import org.apache.spark.sql.types._"
   ]
  },
  {
   "cell_type": "code",
   "execution_count": 6,
   "id": "ffa8d408",
   "metadata": {},
   "outputs": [
    {
     "data": {
      "text/plain": [
       "schema = StructType(StructField(author,StringType,false), StructField(pages,IntegerType,false))\n"
      ]
     },
     "metadata": {},
     "output_type": "display_data"
    },
    {
     "data": {
      "text/plain": [
       "StructType(StructField(author,StringType,false), StructField(pages,IntegerType,false))"
      ]
     },
     "execution_count": 6,
     "metadata": {},
     "output_type": "execute_result"
    }
   ],
   "source": [
    "val schema = StructType(Array(\n",
    "  StructField(\"author\", StringType, false),\n",
    "  StructField(\"pages\", IntegerType, false)\n",
    "))"
   ]
  },
  {
   "cell_type": "code",
   "execution_count": 29,
   "id": "598d2321",
   "metadata": {},
   "outputs": [
    {
     "data": {
      "text/plain": [
       "jsonFile = /workdir/data/blogs.json\n",
       "schema = `Id` INT, `First` STRING, `Last` STRING, `Url` STRING, `Published` STRING, `Hits` INT, `Campaigns` ARRAY<STRING>\n",
       "schema2 = StructType(StructField(Id,IntegerType,false), StructField(First,StringType,false), StructField(Last,StringType,false), StructField(Url,StringType,false), StructField(Published,StringType,false), StructField(Hits,IntegerType,false), StructField(Campaigns,ArrayType(StringType,true),false))\n",
       "blogsDF = [Id: int, First: string ... 5 more fields]\n"
      ]
     },
     "metadata": {},
     "output_type": "display_data"
    },
    {
     "name": "stdout",
     "output_type": "stream",
     "text": [
      "+---+---------+-------+-----------------+---------+-----+----------------------------+\n",
      "|Id |First    |Last   |Url              |Published|Hits |Campaigns                   |\n",
      "+---+---------+-------+-----------------+---------+-----+----------------------------+\n",
      "|1  |Jules    |Damji  |https://tinyurl.1|1/4/2016 |4535 |[twitter, LinkedIn]         |\n",
      "|2  |Brooke   |Wenig  |https://tinyurl.2|5/5/2018 |8908 |[twitter, LinkedIn]         |\n",
      "|3  |Denny    |Lee    |https://tinyurl.3|6/7/2019 |7659 |[web, twitter, FB, LinkedIn]|\n",
      "|4  |Tathagata|Das    |https://tinyurl.4|5/12/2018|10568|[twitter, FB]               |\n",
      "|5  |Matei    |Zaharia|https://tinyurl.5|5/14/2014|40578|[web, twitter, FB, LinkedIn]|\n",
      "|6  |Reynold  |Xin    |https://tinyurl.6|3/2/2015 |25568|[twitter, LinkedIn]         |\n",
      "+---+---------+-------+-----------------+---------+-----+----------------------------+\n",
      "\n"
     ]
    },
    {
     "data": {
      "text/plain": [
       "[Id: int, First: string ... 5 more fields]"
      ]
     },
     "execution_count": 29,
     "metadata": {},
     "output_type": "execute_result"
    }
   ],
   "source": [
    "val jsonFile = \"/workdir/data/blogs.json\"\n",
    "val schema = \"`Id` INT, `First` STRING, `Last` STRING, `Url` STRING, `Published` STRING, `Hits` INT, `Campaigns` ARRAY<STRING>\"\n",
    "val schema2 = StructType(Array(StructField(\"Id\", IntegerType, false),\n",
    "                              StructField(\"First\", StringType, false),\n",
    "                              StructField(\"Last\", StringType, false),\n",
    "                              StructField(\"Url\", StringType, false),\n",
    "                              StructField(\"Published\", StringType, false),\n",
    "                              StructField(\"Hits\", IntegerType, false),\n",
    "                              StructField(\"Campaigns\", ArrayType(StringType), false)\n",
    "                             ))\n",
    "val blogsDF = spark.read.schema(schema).json(jsonFile)\n",
    "blogsDF.show(false)"
   ]
  },
  {
   "cell_type": "code",
   "execution_count": 12,
   "id": "c3d6591a",
   "metadata": {},
   "outputs": [
    {
     "name": "stdout",
     "output_type": "stream",
     "text": [
      "StructType(StructField(Id,IntegerType,true), StructField(First,StringType,true), StructField(Last,StringType,true), StructField(Url,StringType,true), StructField(Published,StringType,true), StructField(Hits,IntegerType,true), StructField(Campaigns,ArrayType(StringType,true),true))\n"
     ]
    }
   ],
   "source": [
    "println(blogsDF.schema)"
   ]
  },
  {
   "cell_type": "code",
   "execution_count": 14,
   "id": "7b34b3ec",
   "metadata": {},
   "outputs": [
    {
     "data": {
      "text/plain": [
       "Array(Id, First, Last, Url, Published, Hits, Campaigns)"
      ]
     },
     "execution_count": 14,
     "metadata": {},
     "output_type": "execute_result"
    }
   ],
   "source": [
    "import org.apache.spark.sql.functions._\n",
    "blogsDF.columns"
   ]
  },
  {
   "cell_type": "code",
   "execution_count": 15,
   "id": "e0d9adbb",
   "metadata": {},
   "outputs": [
    {
     "data": {
      "text/plain": [
       "Id"
      ]
     },
     "execution_count": 15,
     "metadata": {},
     "output_type": "execute_result"
    }
   ],
   "source": [
    "blogsDF.col(\"Id\")"
   ]
  },
  {
   "cell_type": "code",
   "execution_count": 16,
   "id": "66f3c6c7",
   "metadata": {},
   "outputs": [
    {
     "name": "stdout",
     "output_type": "stream",
     "text": [
      "+----------+\n",
      "|(Hits * 2)|\n",
      "+----------+\n",
      "|      9070|\n",
      "|     17816|\n",
      "+----------+\n",
      "only showing top 2 rows\n",
      "\n",
      "+----------+\n",
      "|(Hits * 2)|\n",
      "+----------+\n",
      "|      9070|\n",
      "|     17816|\n",
      "+----------+\n",
      "only showing top 2 rows\n",
      "\n"
     ]
    }
   ],
   "source": [
    "blogsDF.select(expr(\"Hits * 2\")).show(2)\n",
    "blogsDF.select(col(\"Hits\")* 2).show(2)"
   ]
  },
  {
   "cell_type": "code",
   "execution_count": 17,
   "id": "de39629d",
   "metadata": {},
   "outputs": [
    {
     "name": "stdout",
     "output_type": "stream",
     "text": [
      "+---+---------+-------+-----------------+---------+-----+--------------------+-----------+\n",
      "| Id|    First|   Last|              Url|Published| Hits|           Campaigns|Big Hitters|\n",
      "+---+---------+-------+-----------------+---------+-----+--------------------+-----------+\n",
      "|  1|    Jules|  Damji|https://tinyurl.1| 1/4/2016| 4535| [twitter, LinkedIn]|      false|\n",
      "|  2|   Brooke|  Wenig|https://tinyurl.2| 5/5/2018| 8908| [twitter, LinkedIn]|      false|\n",
      "|  3|    Denny|    Lee|https://tinyurl.3| 6/7/2019| 7659|[web, twitter, FB...|      false|\n",
      "|  4|Tathagata|    Das|https://tinyurl.4|5/12/2018|10568|       [twitter, FB]|       true|\n",
      "|  5|    Matei|Zaharia|https://tinyurl.5|5/14/2014|40578|[web, twitter, FB...|       true|\n",
      "|  6|  Reynold|    Xin|https://tinyurl.6| 3/2/2015|25568| [twitter, LinkedIn]|       true|\n",
      "+---+---------+-------+-----------------+---------+-----+--------------------+-----------+\n",
      "\n"
     ]
    }
   ],
   "source": [
    "blogsDF.withColumn(\"Big Hitters\", expr(\"Hits > 10000\")).show()"
   ]
  },
  {
   "cell_type": "code",
   "execution_count": 18,
   "id": "4b32e009",
   "metadata": {},
   "outputs": [
    {
     "name": "stdout",
     "output_type": "stream",
     "text": [
      "+-------------+\n",
      "|     AuthorId|\n",
      "+-------------+\n",
      "|  JulesDamji1|\n",
      "| BrookeWenig2|\n",
      "|    DennyLee3|\n",
      "|TathagataDas4|\n",
      "|MateiZaharia5|\n",
      "|  ReynoldXin6|\n",
      "+-------------+\n",
      "\n"
     ]
    }
   ],
   "source": [
    "blogsDF.withColumn(\"AuthorId\", concat(expr(\"First\"), 'Last, 'Id)).select(\"AuthorId\").show()"
   ]
  },
  {
   "cell_type": "code",
   "execution_count": 19,
   "id": "5abbd4a3",
   "metadata": {},
   "outputs": [
    {
     "name": "stdout",
     "output_type": "stream",
     "text": [
      "+----+\n",
      "|Hits|\n",
      "+----+\n",
      "|4535|\n",
      "|8908|\n",
      "+----+\n",
      "only showing top 2 rows\n",
      "\n",
      "+----+\n",
      "|Hits|\n",
      "+----+\n",
      "|4535|\n",
      "|8908|\n",
      "+----+\n",
      "only showing top 2 rows\n",
      "\n",
      "+----+\n",
      "|Hits|\n",
      "+----+\n",
      "|4535|\n",
      "|8908|\n",
      "+----+\n",
      "only showing top 2 rows\n",
      "\n"
     ]
    }
   ],
   "source": [
    "blogsDF.select(expr(\"Hits\")).show(2)\n",
    "blogsDF.select(col(\"Hits\")).show(2)\n",
    "blogsDF.select(\"Hits\").show(2)"
   ]
  },
  {
   "cell_type": "code",
   "execution_count": 20,
   "id": "1e1cd6a3",
   "metadata": {},
   "outputs": [
    {
     "name": "stdout",
     "output_type": "stream",
     "text": [
      "+---+---------+-------+-----------------+---------+-----+--------------------+\n",
      "| Id|    First|   Last|              Url|Published| Hits|           Campaigns|\n",
      "+---+---------+-------+-----------------+---------+-----+--------------------+\n",
      "|  6|  Reynold|    Xin|https://tinyurl.6| 3/2/2015|25568| [twitter, LinkedIn]|\n",
      "|  5|    Matei|Zaharia|https://tinyurl.5|5/14/2014|40578|[web, twitter, FB...|\n",
      "|  4|Tathagata|    Das|https://tinyurl.4|5/12/2018|10568|       [twitter, FB]|\n",
      "|  3|    Denny|    Lee|https://tinyurl.3| 6/7/2019| 7659|[web, twitter, FB...|\n",
      "|  2|   Brooke|  Wenig|https://tinyurl.2| 5/5/2018| 8908| [twitter, LinkedIn]|\n",
      "|  1|    Jules|  Damji|https://tinyurl.1| 1/4/2016| 4535| [twitter, LinkedIn]|\n",
      "+---+---------+-------+-----------------+---------+-----+--------------------+\n",
      "\n"
     ]
    }
   ],
   "source": [
    "blogsDF.sort('Id.desc).show()"
   ]
  },
  {
   "cell_type": "code",
   "execution_count": 21,
   "id": "a3212a86",
   "metadata": {},
   "outputs": [
    {
     "data": {
      "text/plain": [
       "rows = List((Matei Zaharia,CA), (Reynold Xin,CA))\n",
       "authorsDF = [Author: string, State: string]\n"
      ]
     },
     "metadata": {},
     "output_type": "display_data"
    },
    {
     "name": "stdout",
     "output_type": "stream",
     "text": [
      "+-------------+-----+\n",
      "|       Author|State|\n",
      "+-------------+-----+\n",
      "|Matei Zaharia|   CA|\n",
      "|  Reynold Xin|   CA|\n",
      "+-------------+-----+\n",
      "\n"
     ]
    },
    {
     "data": {
      "text/plain": [
       "[Author: string, State: string]"
      ]
     },
     "execution_count": 21,
     "metadata": {},
     "output_type": "execute_result"
    }
   ],
   "source": [
    "val rows = Seq((\"Matei Zaharia\", \"CA\"), (\"Reynold Xin\", \"CA\"))\n",
    "val authorsDF = rows.toDF(\"Author\", \"State\")\n",
    "authorsDF.show()"
   ]
  },
  {
   "cell_type": "code",
   "execution_count": 30,
   "id": "911ca0e6",
   "metadata": {},
   "outputs": [
    {
     "data": {
      "text/plain": [
       "sampleDF = [CallNumber: string, UnitID: string ... 26 more fields]\n"
      ]
     },
     "metadata": {},
     "output_type": "display_data"
    },
    {
     "data": {
      "text/plain": [
       "[CallNumber: string, UnitID: string ... 26 more fields]"
      ]
     },
     "execution_count": 30,
     "metadata": {},
     "output_type": "execute_result"
    }
   ],
   "source": [
    "val sampleDF = spark\n",
    "  .read\n",
    "  .option(\"samplingRatio\", 0.001)\n",
    "  .option(\"header\", true)\n",
    "  .csv(\"/workdir/data/sf-fire-calls.csv\")"
   ]
  },
  {
   "cell_type": "code",
   "execution_count": 33,
   "id": "6a4b6e70",
   "metadata": {},
   "outputs": [
    {
     "data": {
      "text/plain": [
       "lastException = null\n",
       "schema_fire = \n",
       "sf_fire_file = /workdir/data/sf-fire-calls.csv\n",
       "fire_df = ...\n"
      ]
     },
     "metadata": {},
     "output_type": "display_data"
    },
    {
     "data": {
      "text/plain": [
       "\" CallNumber int, UnitId string, IncidentNumber int, CallType string,\n",
       "                  CallDate string, WatchDate string, CallFinalDispostion string,\n",
       "                  AvailableDtTm string, Address string, City string,\n",
       "                  Zipcode int, Battalion string, StationArea string,\n",
       "                  Box string, OriginalPriority string, Priority string,\n",
       "                  FinalPriority int, ALSUnit boolean, CallTypeGroup string,\n",
       "                  NumAlarms int, UnitType string, UnitSequenceInCallDispatch int,\n",
       "                  FirePreventionDistrict string, SupervisorDistrict string, Neighborhood string,\n",
       "                  Location string, RowID string, Delay float \"\n"
      ]
     },
     "metadata": {},
     "output_type": "display_data"
    },
    {
     "data": {
      "text/plain": [
       "..."
      ]
     },
     "execution_count": 33,
     "metadata": {},
     "output_type": "execute_result"
    }
   ],
   "source": [
    "val schema_fire = \"\"\" CallNumber int, UnitId string, IncidentNumber int, CallType string, \n",
    "                  CallDate string, WatchDate string, CallFinalDispostion string,\n",
    "                  AvailableDtTm string, Address string, City string,\n",
    "                  Zipcode int, Battalion string, StationArea string,\n",
    "                  Box string, OriginalPriority string, Priority string,\n",
    "                  FinalPriority int, ALSUnit boolean, CallTypeGroup string,\n",
    "                  NumAlarms int, UnitType string, UnitSequenceInCallDispatch int,\n",
    "                  FirePreventionDistrict string, SupervisorDistrict string, Neighborhood string,\n",
    "                  Location string, RowID string, Delay float \"\"\"\n",
    "\n",
    "val sf_fire_file = \"/workdir/data/sf-fire-calls.csv\"\n",
    "val fire_df = spark.read.schema(schema_fire).option(\"header\", \"true\").csv(sf_fire_file)"
   ]
  },
  {
   "cell_type": "code",
   "execution_count": 34,
   "id": "ac825185",
   "metadata": {},
   "outputs": [
    {
     "name": "stdout",
     "output_type": "stream",
     "text": [
      "+--------------+----------------------+--------------+\n",
      "|IncidentNumber|AvailableDtTm         |CallType      |\n",
      "+--------------+----------------------+--------------+\n",
      "|2003235       |01/11/2002 01:51:44 AM|Structure Fire|\n",
      "|2003250       |01/11/2002 04:16:46 AM|Vehicle Fire  |\n",
      "|2003259       |01/11/2002 06:01:58 AM|Alarms        |\n",
      "|2003279       |01/11/2002 08:03:26 AM|Structure Fire|\n",
      "|2003301       |01/11/2002 09:46:44 AM|Alarms        |\n",
      "+--------------+----------------------+--------------+\n",
      "only showing top 5 rows\n",
      "\n"
     ]
    }
   ],
   "source": [
    "fire_df.select('IncidentNumber, 'AvailableDtTm, 'CallType).where('CallType =!= \"Medical Incident\").show(5, false)"
   ]
  },
  {
   "cell_type": "code",
   "execution_count": 35,
   "id": "5ae0c857",
   "metadata": {},
   "outputs": [
    {
     "data": {
      "text/plain": [
       "warning: there was one feature warning; for details, enable `:setting -feature' or `:replay -feature'\n"
      ]
     },
     "metadata": {},
     "output_type": "display_data"
    },
    {
     "name": "stdout",
     "output_type": "stream",
     "text": [
      "+----------------+\n",
      "|CallTypeDistinct|\n",
      "+----------------+\n",
      "|              30|\n",
      "+----------------+\n",
      "\n"
     ]
    }
   ],
   "source": [
    "fire_df.select('CallType).where('CallType isNotNull).agg(countDistinct('CallType) as 'CallTypeDistinct).show()"
   ]
  },
  {
   "cell_type": "code",
   "execution_count": 36,
   "id": "4f334f84",
   "metadata": {},
   "outputs": [
    {
     "name": "stdout",
     "output_type": "stream",
     "text": [
      "+-----------------------------------+\n",
      "|CallType                           |\n",
      "+-----------------------------------+\n",
      "|Elevator / Escalator Rescue        |\n",
      "|Marine Fire                        |\n",
      "|Aircraft Emergency                 |\n",
      "|Confined Space / Structure Collapse|\n",
      "|Administrative                     |\n",
      "|Alarms                             |\n",
      "|Odor (Strange / Unknown)           |\n",
      "|Citizen Assist / Service Call      |\n",
      "|HazMat                             |\n",
      "|Watercraft in Distress             |\n",
      "+-----------------------------------+\n",
      "only showing top 10 rows\n",
      "\n"
     ]
    }
   ],
   "source": [
    "fire_df\n",
    "  .select(\"CallType\").distinct()\n",
    "  .where($\"CallType\".isNotNull).show(10, false)"
   ]
  },
  {
   "cell_type": "code",
   "execution_count": 37,
   "id": "2f1c3ea7",
   "metadata": {},
   "outputs": [
    {
     "data": {
      "text/plain": [
       "newFireDF = [CallNumber: int, UnitId: string ... 26 more fields]\n"
      ]
     },
     "metadata": {},
     "output_type": "display_data"
    },
    {
     "name": "stdout",
     "output_type": "stream",
     "text": [
      "+---------------------+\n",
      "|ResponseDelayedinMins|\n",
      "+---------------------+\n",
      "|5.35                 |\n",
      "|6.25                 |\n",
      "|5.2                  |\n",
      "|5.6                  |\n",
      "|7.25                 |\n",
      "+---------------------+\n",
      "only showing top 5 rows\n",
      "\n"
     ]
    },
    {
     "data": {
      "text/plain": [
       "[CallNumber: int, UnitId: string ... 26 more fields]"
      ]
     },
     "execution_count": 37,
     "metadata": {},
     "output_type": "execute_result"
    }
   ],
   "source": [
    "val newFireDF = fire_df.withColumnRenamed(\"Delay\", \"ResponseDelayedinMins\")\n",
    "newFireDF\n",
    " .select(\"ResponseDelayedinMins\")\n",
    " .where($\"ResponseDelayedinMins\" > 5)\n",
    " .show(5, false)"
   ]
  },
  {
   "cell_type": "code",
   "execution_count": 38,
   "id": "6812e2d4",
   "metadata": {},
   "outputs": [
    {
     "name": "stdout",
     "output_type": "stream",
     "text": [
      "root\n",
      " |-- CallDate: string (nullable = true)\n",
      " |-- WatchDate: string (nullable = true)\n",
      " |-- AvailableDtTm: string (nullable = true)\n",
      "\n"
     ]
    }
   ],
   "source": [
    "newFireDF.select(\"CallDate\", \"WatchDate\", \"AvailableDtTm\").printSchema"
   ]
  },
  {
   "cell_type": "code",
   "execution_count": 39,
   "id": "c30a67a5",
   "metadata": {},
   "outputs": [
    {
     "data": {
      "text/plain": [
       "fireTsDF = [CallNumber: int, UnitId: string ... 26 more fields]\n"
      ]
     },
     "metadata": {},
     "output_type": "display_data"
    },
    {
     "name": "stdout",
     "output_type": "stream",
     "text": [
      "+-------------------+-------------------+-------------------+\n",
      "|IncidentDate       |OnWatchDate        |AvailableDtTS      |\n",
      "+-------------------+-------------------+-------------------+\n",
      "|2002-01-11 00:00:00|2002-01-10 00:00:00|2002-01-11 01:51:44|\n",
      "|2002-01-11 00:00:00|2002-01-10 00:00:00|2002-01-11 03:01:18|\n",
      "|2002-01-11 00:00:00|2002-01-10 00:00:00|2002-01-11 02:39:50|\n",
      "|2002-01-11 00:00:00|2002-01-10 00:00:00|2002-01-11 04:16:46|\n",
      "|2002-01-11 00:00:00|2002-01-10 00:00:00|2002-01-11 06:01:58|\n",
      "+-------------------+-------------------+-------------------+\n",
      "only showing top 5 rows\n",
      "\n"
     ]
    },
    {
     "data": {
      "text/plain": [
       "[CallNumber: int, UnitId: string ... 26 more fields]"
      ]
     },
     "execution_count": 39,
     "metadata": {},
     "output_type": "execute_result"
    }
   ],
   "source": [
    "val fireTsDF = newFireDF\n",
    "  .withColumn(\"IncidentDate\", to_timestamp('CallDate, \"MM/dd/yyyy\"))\n",
    "  .drop('CallDate)\n",
    "  .withColumn(\"OnWatchDate\", to_timestamp('WatchDate, \"MM/dd/yyyy\"))\n",
    "  .drop('WatchDate)\n",
    "  .withColumn(\"AvailableDtTS\", to_timestamp('AvailableDtTm, \"MM/dd/yyyy hh:mm:ss a\"))\n",
    "  .drop('AvailableDtTm)\n",
    "\n",
    "fireTsDF\n",
    " .select(\"IncidentDate\", \"OnWatchDate\", \"AvailableDtTS\")\n",
    " .show(5, false)"
   ]
  },
  {
   "cell_type": "code",
   "execution_count": 40,
   "id": "a4434f6d",
   "metadata": {},
   "outputs": [
    {
     "name": "stdout",
     "output_type": "stream",
     "text": [
      "+------------------+\n",
      "|year(IncidentDate)|\n",
      "+------------------+\n",
      "|              2000|\n",
      "|              2001|\n",
      "|              2002|\n",
      "|              2003|\n",
      "|              2004|\n",
      "|              2005|\n",
      "|              2006|\n",
      "|              2007|\n",
      "|              2008|\n",
      "|              2009|\n",
      "|              2010|\n",
      "|              2011|\n",
      "|              2012|\n",
      "|              2013|\n",
      "|              2014|\n",
      "|              2015|\n",
      "|              2016|\n",
      "|              2017|\n",
      "|              2018|\n",
      "+------------------+\n",
      "\n"
     ]
    }
   ],
   "source": [
    "fireTsDF\n",
    "  .select(year('IncidentDate))\n",
    "  .distinct\n",
    "  .orderBy(year('IncidentDate))\n",
    "  .show()"
   ]
  },
  {
   "cell_type": "code",
   "execution_count": 41,
   "id": "5ce60337",
   "metadata": {},
   "outputs": [
    {
     "data": {
      "text/plain": [
       "warning: there was one feature warning; for details, enable `:setting -feature' or `:replay -feature'\n"
      ]
     },
     "metadata": {},
     "output_type": "display_data"
    },
    {
     "name": "stdout",
     "output_type": "stream",
     "text": [
      "+-------------------------------+------+\n",
      "|CallType                       |cnt   |\n",
      "+-------------------------------+------+\n",
      "|Medical Incident               |113794|\n",
      "|Structure Fire                 |23319 |\n",
      "|Alarms                         |19406 |\n",
      "|Traffic Collision              |7013  |\n",
      "|Citizen Assist / Service Call  |2524  |\n",
      "|Other                          |2166  |\n",
      "|Outside Fire                   |2094  |\n",
      "|Vehicle Fire                   |854   |\n",
      "|Gas Leak (Natural and LP Gases)|764   |\n",
      "|Water Rescue                   |755   |\n",
      "+-------------------------------+------+\n",
      "only showing top 10 rows\n",
      "\n"
     ]
    }
   ],
   "source": [
    "fireTsDF\n",
    "  .select('CallType)\n",
    "  .where('CallType isNotNull)\n",
    "  .groupBy('CallType)\n",
    "  .agg(count('CallType).as(\"cnt\"))\n",
    "  .orderBy(desc(\"cnt\"))\n",
    "  .show(10, false)"
   ]
  },
  {
   "cell_type": "code",
   "execution_count": 42,
   "id": "9b6c83f5",
   "metadata": {},
   "outputs": [
    {
     "name": "stdout",
     "output_type": "stream",
     "text": [
      "+--------------+--------------------------+--------------------------+--------------------------+\n",
      "|sum(NumAlarms)|avg(ResponseDelayedinMins)|min(ResponseDelayedinMins)|max(ResponseDelayedinMins)|\n",
      "+--------------+--------------------------+--------------------------+--------------------------+\n",
      "|        176170|         3.892364154521585|               0.016666668|                   1844.55|\n",
      "+--------------+--------------------------+--------------------------+--------------------------+\n",
      "\n"
     ]
    }
   ],
   "source": [
    "fireTsDF\n",
    "  .select(sum(\"NumAlarms\"), avg(\"ResponseDelayedinMins\"), min(\"ResponseDelayedinMins\"), max(\"ResponseDelayedinMins\"))\n",
    "  .show()"
   ]
  },
  {
   "cell_type": "markdown",
   "id": "619b7c82",
   "metadata": {},
   "source": [
    "### Average response time per Fire call type\n"
   ]
  },
  {
   "cell_type": "code",
   "execution_count": 44,
   "id": "ca3f9139",
   "metadata": {},
   "outputs": [
    {
     "data": {
      "text/plain": [
       "warning: there was one feature warning; for details, enable `:setting -feature' or `:replay -feature'\n"
      ]
     },
     "metadata": {},
     "output_type": "display_data"
    },
    {
     "name": "stdout",
     "output_type": "stream",
     "text": [
      "+-----------------------------------+--------------------+\n",
      "|CallType                           |avgResponseTimeInMin|\n",
      "+-----------------------------------+--------------------+\n",
      "|Mutual Aid / Assist Outside Agency |38.41666640175713   |\n",
      "|Assist Police                      |26.981903961726598  |\n",
      "|Train / Rail Incident              |16.452046751976013  |\n",
      "|Administrative                     |12.261111179987589  |\n",
      "|HazMat                             |7.527016133069992   |\n",
      "|Marine Fire                        |6.928571377481733   |\n",
      "|Confined Space / Structure Collapse|6.915384567700899   |\n",
      "|Watercraft in Distress             |6.886904835700989   |\n",
      "|Suspicious Package                 |6.576666704813639   |\n",
      "|High Angle Rescue                  |6.048958357423544   |\n",
      "+-----------------------------------+--------------------+\n",
      "only showing top 10 rows\n",
      "\n"
     ]
    }
   ],
   "source": [
    "fireTsDF\n",
    "  .where('CallType isNotNull)\n",
    "  .groupBy('CallType)\n",
    "  .agg(avg(\"ResponseDelayedinMins\").as(\"avgResponseTimeInMin\"))\n",
    "  .orderBy('avgResponseTimeInMin.desc)\n",
    "  .show(10, false)"
   ]
  },
  {
   "cell_type": "markdown",
   "id": "bbe9b0f9",
   "metadata": {},
   "source": [
    "###  What were all the different types of fire calls in 2018?"
   ]
  },
  {
   "cell_type": "code",
   "execution_count": 45,
   "id": "6f179f91",
   "metadata": {},
   "outputs": [
    {
     "data": {
      "text/plain": [
       "warning: there was one feature warning; for details, enable `:setting -feature' or `:replay -feature'\n"
      ]
     },
     "metadata": {},
     "output_type": "display_data"
    },
    {
     "name": "stdout",
     "output_type": "stream",
     "text": [
      "+-------------------------------+------------+\n",
      "|Calltype                       |IncidentYear|\n",
      "+-------------------------------+------------+\n",
      "|Electrical Hazard              |2018        |\n",
      "|Fuel Spill                     |2018        |\n",
      "|Water Rescue                   |2018        |\n",
      "|Medical Incident               |2018        |\n",
      "|Vehicle Fire                   |2018        |\n",
      "|Suspicious Package             |2018        |\n",
      "|Other                          |2018        |\n",
      "|HazMat                         |2018        |\n",
      "|Gas Leak (Natural and LP Gases)|2018        |\n",
      "|Assist Police                  |2018        |\n",
      "+-------------------------------+------------+\n",
      "only showing top 10 rows\n",
      "\n"
     ]
    }
   ],
   "source": [
    "fireTsDF\n",
    "  .select('Calltype, year('IncidentDate).as(\"IncidentYear\"))\n",
    "  .filter(('CallType isNotNull) && ($\"IncidentYear\" === 2018))\n",
    "  .distinct\n",
    "  .show(10, false)"
   ]
  },
  {
   "cell_type": "markdown",
   "id": "bd1f879b",
   "metadata": {},
   "source": [
    "###  What months within the year 2018 saw the highest number of fire calls?"
   ]
  },
  {
   "cell_type": "code",
   "execution_count": 46,
   "id": "36cdc7fa",
   "metadata": {},
   "outputs": [
    {
     "name": "stdout",
     "output_type": "stream",
     "text": [
      "+--------+-----+\n",
      "|newMonth|count|\n",
      "+--------+-----+\n",
      "|Oct-2018|1068 |\n",
      "|May-2018|1047 |\n",
      "|Mar-2018|1029 |\n",
      "|Aug-2018|1021 |\n",
      "|Jan-2018|1007 |\n",
      "|Jun-2018|974  |\n",
      "|Jul-2018|974  |\n",
      "|Sep-2018|951  |\n",
      "|Apr-2018|947  |\n",
      "|Feb-2018|919  |\n",
      "+--------+-----+\n",
      "only showing top 10 rows\n",
      "\n"
     ]
    }
   ],
   "source": [
    "fireTsDF\n",
    "  .select('IncidentDate)\n",
    "  .withColumn(\"newMonth\", date_format('IncidentDate, \"MMM-yyyy\"))\n",
    "  .filter(year('IncidentDate) === 2018)\n",
    "  .groupBy('newMonth)\n",
    "  .count\n",
    "  .orderBy('count.desc)\n",
    "  .show(10, false)"
   ]
  },
  {
   "cell_type": "markdown",
   "id": "3ac59a28",
   "metadata": {},
   "source": [
    "### Which neighborhood in San Francisco generated the most fire calls in 2018"
   ]
  },
  {
   "cell_type": "code",
   "execution_count": 47,
   "id": "336c0c75",
   "metadata": {},
   "outputs": [
    {
     "name": "stdout",
     "output_type": "stream",
     "text": [
      "+------------------------------+-----+\n",
      "|Neighborhood                  |count|\n",
      "+------------------------------+-----+\n",
      "|Tenderloin                    |105  |\n",
      "|Financial District/South Beach|92   |\n",
      "|Mission                       |80   |\n",
      "|Bayview Hunters Point         |68   |\n",
      "|South of Market               |63   |\n",
      "|Nob Hill                      |53   |\n",
      "|Sunset/Parkside               |40   |\n",
      "|Western Addition              |39   |\n",
      "|Outer Richmond                |37   |\n",
      "|Potrero Hill                  |31   |\n",
      "+------------------------------+-----+\n",
      "only showing top 10 rows\n",
      "\n"
     ]
    }
   ],
   "source": [
    "fireTsDF\n",
    "  .where((year('IncidentDate) === 2018) && ('City === \"San Francisco\") && ('CallType.contains(\"Fire\")))\n",
    "  .groupBy('Neighborhood)\n",
    "  .count\n",
    "  .orderBy('count.desc)\n",
    "  .show(10, false)"
   ]
  },
  {
   "cell_type": "markdown",
   "id": "d868ac20",
   "metadata": {},
   "source": [
    "### Which neighborhoods had the worst response times to fire calls in 2018?"
   ]
  },
  {
   "cell_type": "code",
   "execution_count": 49,
   "id": "3e6ef3d1",
   "metadata": {},
   "outputs": [
    {
     "name": "stdout",
     "output_type": "stream",
     "text": [
      "+--------------------------+----------------+\n",
      "|Neighborhood              |WorstResponsTime|\n",
      "+--------------------------+----------------+\n",
      "|Chinatown                 |491.26666       |\n",
      "|Pacific Heights           |129.01666       |\n",
      "|Bayview Hunters Point     |63.15           |\n",
      "|Tenderloin                |30.566668       |\n",
      "|Mission Bay               |28.816668       |\n",
      "|Bernal Heights            |24.616667       |\n",
      "|Russian Hill              |18.616667       |\n",
      "|Golden Gate Park          |18.283333       |\n",
      "|Mission                   |17.916666       |\n",
      "|Oceanview/Merced/Ingleside|15.55           |\n",
      "+--------------------------+----------------+\n",
      "only showing top 10 rows\n",
      "\n"
     ]
    }
   ],
   "source": [
    "fireTsDF\n",
    "  .filter( ('Calltype contains(\"Fire\")) && (year('IncidentDate) === 2018) )\n",
    "  .groupBy('Neighborhood)\n",
    "  .agg(max('ResponseDelayedinMins).as(\"WorstResponsTime\"))\n",
    "  .orderBy('WorstResponsTime.desc)\n",
    "  .show(10, false)"
   ]
  },
  {
   "cell_type": "markdown",
   "id": "10519164",
   "metadata": {},
   "source": [
    "\n",
    "###  Which week in the year in 2018 had the most fire calls?"
   ]
  },
  {
   "cell_type": "code",
   "execution_count": 50,
   "id": "c8807d0d",
   "metadata": {},
   "outputs": [
    {
     "data": {
      "text/plain": [
       "warning: there was one feature warning; for details, enable `:setting -feature' or `:replay -feature'\n"
      ]
     },
     "metadata": {},
     "output_type": "display_data"
    },
    {
     "name": "stdout",
     "output_type": "stream",
     "text": [
      "+----------+-----------+\n",
      "|weekNumber|NbFireCalls|\n",
      "+----------+-----------+\n",
      "|        22|        259|\n",
      "+----------+-----------+\n",
      "only showing top 1 row\n",
      "\n"
     ]
    }
   ],
   "source": [
    "fireTsDF\n",
    "  .select('IncidentDate, weekofyear('IncidentDate) as \"weekNumber\")\n",
    "  .filter( (year('IncidentDate) === 2018) && ('CallType isNotNull) )\n",
    "  .groupBy('weekNumber)\n",
    "  .agg(count(\"*\").as(\"NbFireCalls\"))\n",
    "  .orderBy('NbFireCalls.desc)\n",
    "  .show(1)"
   ]
  }
 ],
 "metadata": {
  "kernelspec": {
   "display_name": "Apache Toree - Scala",
   "language": "scala",
   "name": "apache_toree_scala"
  },
  "language_info": {
   "codemirror_mode": "text/x-scala",
   "file_extension": ".scala",
   "mimetype": "text/x-scala",
   "name": "scala",
   "pygments_lexer": "scala",
   "version": "2.12.15"
  }
 },
 "nbformat": 4,
 "nbformat_minor": 5
}
